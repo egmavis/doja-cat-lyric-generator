19275/19275 [==============================] - 1245s 64ms/step - loss: 0.8150

Generating text after epoch: 0
Diversity:  0.5
Generating with seed: 'if she won't go dijo'
Generated:   lean and your hands down woman woman woman ayy i can be your woman woman woman woman ayy i can get believe i got a man but i want a man to stand and fight stand and fight for meging i have it ain't got your ganester ass me ath no got a h baby i how ain 't coldow ha om ain't gotta ally want me a to you boy i 'll show you yeah baby let me watch you go to town it's your one chaine a manted get into 

Diversity:  1.0
Generating with seed: 'if she won't go dijo'
Generated:  n do it like that saids from the nigga don't clean weth your deesed can give speak in the body but when the best come thatiggin' like this a diffim like vikendes something baby i wouldn't lie wiah wancust'  it's one me how love cknougd jealoe the tis with mydan when he tait ain't boss full my drank like the bed son 't bandes cars and lett the move you like that i want that one till we hew to prout

Diversity:  1.2
Generating with seed: 'if she won't go dijo'
Generated:  n 'cause yoursw cuap griss 'bout to fuckin' backa woo shised turn yeah reen to you vibpide let now douge imalesto make relall the sine orenan get whow thot woman nomy kild nice with my hain and side up misty i me and thought the erping everythith just a starde nah no girash and the sealy your anyther h all me him you pite night in a fastasi gato like a tiol ove your whole i won 't bed fow i 'm kid

19275/19275 [==============================] - 1262s 65ms/step - loss: 0.5502

Generating text after epoch: 1
Diversity:  0.5
Generating with seed: 'u go to town go down'
Generated:   go down let me leel with ans hold me when we want i can't believe my eyes and her more love an my somethin ' i might bit ha don 't wanna take you want me bad yeah baby when you talk to me i be in my bag i be in my bag when you talk dirty back na na na na na i 'm too i stand and you could see it from the front wait till you see it from the back back back back wait 'til you see it from the if you c

Diversity:  1.0
Generating with seed: 'u go to town go down'
Generated:   go to town it 'se dirm fucks efolle frockin ' on them botsers i am whish fuckin ' your aly thound clong night for mecall just work you can daddia kayd or on them mery thighs yeah so gen it belren gubcatch do it 'til my dyught me when the mind you ain't read you wanna bet you do it motherfucke bitch since and i 'll uh pince you usgiction prolly cause i'm fancy uh oh ohh uh uh oh oh ohh you would t

Diversity:  1.2
Generating with seed: 'u go to town go down'
Generated:   go down go down yeah let me see you touch y'bore how that 's ftie t probore holly lifer nouck bread in the just you run anyvits mible but blut lost just love it on me body had to the tron 't but the egging uh up and ad the needer gri likn my stick she loke that pipen of teld us baby heak when i don't even what you feel dod i ain't call on my vipin' more hows love yeah then zindsi i got him all bi

19275/19275 [==============================] - 1136s 59ms/step - loss: 0.4695

Generating text after epoch: 2
Diversity:  0.5
Generating with seed: 'he morning light lig'
Generated:  ht light light light light light light light light light light light light light light light light light light light light light light light light light light light light light light light light light light light light light light light light light light light light light light light light light light light light light light light light light light light light light light light light light light l

Diversity:  1.0
Generating with seed: 'he morning light lig'
Generated:  ht light light light light light light light light light light light light light light light light light light light light light light light light light light light light light light light light light light light light light light light light light light light light light light light light light light light light light light light light light light light light light light light light light light l

Diversity:  1.2
Generating with seed: 'he morning light lig'
Generated:  ht light light light light light light light light light light light light light light lenshike ottight ass getting the shargl night now i ain't a litta when you're for take him yo gri pope like you like thess maty do night morning irys butt you make it 's but i want a man but youf if that's mad boy down got the trpeast you there got me prolled monay pollin' misther mayby is like like vibs knew se

19275/19275 [==============================] - 1053s 55ms/step - loss: 0.4339

Generating text after epoch: 3
Diversity:  0.5
Generating with seed: 'now bitches you shou'
